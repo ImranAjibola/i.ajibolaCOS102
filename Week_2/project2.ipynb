{
 "cells": [
  {
   "cell_type": "code",
   "execution_count": 1,
   "metadata": {},
   "outputs": [
    {
     "name": "stdout",
     "output_type": "stream",
     "text": [
      "No real roots found for the cubic equation.\n"
     ]
    }
   ],
   "source": [
    "def find_cubic_roots(A, B, C, D):\n",
    "    # Calculate the discriminant\n",
    "    D1 = 18*A*B*C*D - 4*B**3*D + B**2*C**2 - 4*A*C**3 - 27*A**2*D**2\n",
    "    \n",
    "    # Check if discriminant is positive\n",
    "    if D1 > 0:\n",
    "        # Calculate intermediate values\n",
    "        P = C/A - (B**2)/(3*A**2)\n",
    "        Q = D/A - (B*C)/(3*A**2)\n",
    "        \n",
    "        # Calculate intermediate value R\n",
    "        R = (Q/2)**2 + (P/3)**3\n",
    "        \n",
    "        # Check if R is positive\n",
    "        if R > 0:\n",
    "            # Calculate intermediate values S and T\n",
    "            S = (Q/2 + (R)**0.5)**(1/3)\n",
    "            T = (Q/2 - (R)**0.5)**(1/3)\n",
    "            \n",
    "            # Compute the roots\n",
    "            x1 = S + T - B/(3*A)\n",
    "            x2_real = -(S + T)/2 - B/(3*A)\n",
    "            x2_imag = ((S - T)*(3)**0.5)/2\n",
    "            x3_real = -(S + T)/2 - B/(3*A)\n",
    "            x3_imag = -((S - T)*(3)**0.5)/2\n",
    "            \n",
    "            # Return the roots\n",
    "            return x1, complex(x2_real, x2_imag), complex(x3_real, x3_imag)\n",
    "    \n",
    "    return None  # No real roots found\n",
    "\n",
    "# Example usage\n",
    "A = float(input(\"Enter coefficient A: \"))\n",
    "B = float(input(\"Enter coefficient B: \"))\n",
    "C = float(input(\"Enter coefficient C: \"))\n",
    "D = float(input(\"Enter coefficient D: \"))\n",
    "\n",
    "roots = find_cubic_roots(A, B, C, D)\n",
    "if roots:\n",
    "    print(\"Roots of the cubic equation:\")\n",
    "    for root in roots:\n",
    "        print(root)\n",
    "else:\n",
    "    print(\"No real roots found for the cubic equation.\")\n"
   ]
  },
  {
   "cell_type": "code",
   "execution_count": null,
   "metadata": {},
   "outputs": [],
   "source": []
  }
 ],
 "metadata": {
  "kernelspec": {
   "display_name": "Python 3",
   "language": "python",
   "name": "python3"
  },
  "language_info": {
   "codemirror_mode": {
    "name": "ipython",
    "version": 3
   },
   "file_extension": ".py",
   "mimetype": "text/x-python",
   "name": "python",
   "nbconvert_exporter": "python",
   "pygments_lexer": "ipython3",
   "version": "3.10.5"
  }
 },
 "nbformat": 4,
 "nbformat_minor": 2
}
