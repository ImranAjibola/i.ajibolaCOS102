{
 "cells": [
  {
   "cell_type": "code",
   "execution_count": 3,
   "metadata": {},
   "outputs": [
    {
     "name": "stdout",
     "output_type": "stream",
     "text": [
      "WELCOME TO THE COUPE DE ESCRIVA 2023: FOOTBALL PICKS \n",
      "\n",
      "Madiba:  Chubby Obiora-Okafo\n",
      "Blue-Jays:  Christopher Umeh\n",
      "Cirok:  Alexander\n",
      "TSG Walkers:  Ayomide Ojituku\n"
     ]
    }
   ],
   "source": [
    "print(\"WELCOME TO THE COUPE DE ESCRIVA 2023: FOOTBALL PICKS \\n\")\n",
    "\n",
    "goalkeepers = {\"Madiba: \": \"Chubby Obiora-Okafo\", \"Blue-Jays: \": \"Olademeji Abaniwandae/Jefferey Awagu\", \"Cirok: \": \"Timileyin Pearse/Izuago Jeremy\",\"TSG Walkers: \" : \"Ayomide Ojituku\"}\n",
    "captain = {\"Madiba: \": \"Chubby Obiora-Okafo\", \"Blue-Jays: \": \"Christopher Umeh\", \"Cirok: \": \"Alexander\",\"TSG Walkers: \" : \"Ayomide Ojituku\"}\n",
    "\n",
    "for pick in captain:\n",
    "    print(pick, captain[pick])"
   ]
  },
  {
   "cell_type": "code",
   "execution_count": 4,
   "metadata": {},
   "outputs": [
    {
     "name": "stdout",
     "output_type": "stream",
     "text": [
      "Madiba:  Chubby Obiora-Okafo\n",
      "Blue-Jays:  Olademeji Abaniwandae/Jefferey Awagu\n",
      "Cirok:  Timileyin Pearse/Izuago Jeremy\n",
      "TSG Walkers:  Ayomide Ojituku\n"
     ]
    }
   ],
   "source": [
    "for pick in goalkeepers:\n",
    "    print(pick, goalkeepers[pick])"
   ]
  },
  {
   "cell_type": "code",
   "execution_count": null,
   "metadata": {},
   "outputs": [],
   "source": []
  }
 ],
 "metadata": {
  "kernelspec": {
   "display_name": "Python 3",
   "language": "python",
   "name": "python3"
  },
  "language_info": {
   "codemirror_mode": {
    "name": "ipython",
    "version": 3
   },
   "file_extension": ".py",
   "mimetype": "text/x-python",
   "name": "python",
   "nbconvert_exporter": "python",
   "pygments_lexer": "ipython3",
   "version": "3.10.5"
  }
 },
 "nbformat": 4,
 "nbformat_minor": 2
}
