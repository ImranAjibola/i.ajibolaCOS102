{
 "cells": [
  {
   "cell_type": "code",
   "execution_count": 1,
   "metadata": {},
   "outputs": [
    {
     "name": "stdout",
     "output_type": "stream",
     "text": [
      "The simple interest is 0.010000000000000009\n"
     ]
    }
   ],
   "source": [
    "r = int(input(\"Input the rate\"))\n",
    "t = int(input(\"Input the time in years\"))\n",
    "p = int(input(\"Input the principal\"))\n",
    "Amount =p*(1 + (r/100)*t)\n",
    "SI = Amount - p\n",
    "print(\"The simple interest is\",SI)"
   ]
  },
  {
   "cell_type": "code",
   "execution_count": 2,
   "metadata": {},
   "outputs": [
    {
     "name": "stdout",
     "output_type": "stream",
     "text": [
      "The compound intrest is 2.0\n"
     ]
    }
   ],
   "source": [
    "r = int(input(\"Input the rate\"))\n",
    "t = int(input(\"Input the time in years\"))\n",
    "p = int(input(\"Input the principal\"))\n",
    "n = int(input(\"Input the compounding periods per year\"))\n",
    "Amount = p + (1 + (r/n))**(n*t)\n",
    "CI = Amount - p\n",
    "print(\"The compound intrest is\",CI)"
   ]
  },
  {
   "cell_type": "code",
   "execution_count": 3,
   "metadata": {},
   "outputs": [
    {
     "name": "stdout",
     "output_type": "stream",
     "text": [
      "The annuity plan is 1.0\n"
     ]
    }
   ],
   "source": [
    "pmt = int(input(\"Input the Periodic payment\"))\n",
    "r = int(input(\"Input the rate\"))\n",
    "n = int(input(\"Input the compounding periods per year\"))\n",
    "t = int(input(\"Input the time in years\"))\n",
    "AP = pmt * ((1 + (r/n))**(n*t) - 1) / (r / n)\n",
    "print(\"The annuity plan is\",AP)"
   ]
  }
 ],
 "metadata": {
  "kernelspec": {
   "display_name": "Python 3",
   "language": "python",
   "name": "python3"
  },
  "language_info": {
   "codemirror_mode": {
    "name": "ipython",
    "version": 3
   },
   "file_extension": ".py",
   "mimetype": "text/x-python",
   "name": "python",
   "nbconvert_exporter": "python",
   "pygments_lexer": "ipython3",
   "version": "3.10.5"
  }
 },
 "nbformat": 4,
 "nbformat_minor": 2
}
