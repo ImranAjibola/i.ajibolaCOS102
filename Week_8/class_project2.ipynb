{
 "cells": [
  {
   "cell_type": "code",
   "execution_count": 3,
   "metadata": {},
   "outputs": [],
   "source": [
    "import pandas as pd\n",
    "\n",
    "beverages = {\n",
    "    'Product': ['Cocoa Butter', 'Cocoa Cake', 'Cocoa Liquor', 'Cocoa Powder', 'Bournvita', 'Hot Chocolate', 'Tom Tom', 'Buttermint'],\n",
    "    'Segment': ['Intermediate Cocoa Products', 'Intermediate Cocoa Products', 'Intermediate Cocoa Products', 'Intermediate Cocoa Products', 'Refreshment Beverages', 'Refreshment Beverages', 'Confectionery', 'Confectionery'],\n",
    "    'Brand': ['Cocoa Butter', 'Cocoa Cake', 'Cocoa Liquor', 'Cocoa Powder', 'CADBURY BOURNVITA', 'CADBURY 3-in-1 HOT CHOCOLATE', 'TOMTOM CLASSIC', 'BUTTERMINT']\n",
    "}\n",
    "\n",
    "df = pd.DataFrame(beverages)\n",
    "\n",
    "df.to_csv('cadbury_market.csv')"
   ]
  }
 ],
 "metadata": {
  "kernelspec": {
   "display_name": "Python 3",
   "language": "python",
   "name": "python3"
  },
  "language_info": {
   "codemirror_mode": {
    "name": "ipython",
    "version": 3
   },
   "file_extension": ".py",
   "mimetype": "text/x-python",
   "name": "python",
   "nbconvert_exporter": "python",
   "pygments_lexer": "ipython3",
   "version": "3.10.5"
  }
 },
 "nbformat": 4,
 "nbformat_minor": 2
}
