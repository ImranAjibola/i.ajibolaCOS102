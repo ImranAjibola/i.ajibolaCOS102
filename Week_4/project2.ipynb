{
 "cells": [
  {
   "cell_type": "code",
   "execution_count": 6,
   "metadata": {},
   "outputs": [
    {
     "name": "stdout",
     "output_type": "stream",
     "text": [
      "Your Annual Tax revenue is N4,480,000\n"
     ]
    }
   ],
   "source": [
    "age = int(input(\"How old are you?\"))\n",
    "exp = int(input(\"How many years of experience do you have?\"))\n",
    "if exp > 25 and age >= 55: \n",
    "    print(\"Your Annual Tax revenue is N5,600,000\")\n",
    "elif exp > 20 and age >= 45:\n",
    "    print(\"Your Annual Tax revenue is N4,480,000\")  \n",
    "elif exp > 10 and age >= 35:\n",
    "    print(\"Your Annual Tax revenue is N1,500,000\")\n",
    "elif exp < 35 and age < 35:\n",
    "    print(\"Your Annual Tax revenue is N550,000\")"
   ]
  }
 ],
 "metadata": {
  "kernelspec": {
   "display_name": "Python 3",
   "language": "python",
   "name": "python3"
  },
  "language_info": {
   "codemirror_mode": {
    "name": "ipython",
    "version": 3
   },
   "file_extension": ".py",
   "mimetype": "text/x-python",
   "name": "python",
   "nbconvert_exporter": "python",
   "pygments_lexer": "ipython3",
   "version": "3.10.5"
  }
 },
 "nbformat": 4,
 "nbformat_minor": 2
}
