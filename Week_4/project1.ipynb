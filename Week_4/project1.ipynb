{
 "cells": [
  {
   "cell_type": "code",
   "execution_count": 18,
   "metadata": {},
   "outputs": [
    {
     "name": "stdout",
     "output_type": "stream",
     "text": [
      "Name age Height score\n",
      "Evelyn: 17,5.5 80\n",
      "Jessica: 16,6.0, 85\n",
      "Somto: 17,5.4, 70\n",
      "Edith: 18,5.9, 60\n",
      "Liza: 16,5.6, 76\n",
      "Madonna: 18,5.5, 66\n",
      "Waje: 17,6.1, 87\n",
      "Tola: 20,6.0, 95\n",
      "Aisha: 19,5.7, 50\n",
      "Latifa: 17,5.5 49\n",
      "Chinedu: 19,5.7 74\n",
      "Liam: 16,5.9, 87\n",
      "Wale: 18,5.8, 75\n",
      "Gbenga: 17,6.1, 68\n",
      "Abiola: 20,5.9, 66\n",
      "Kola: 19,5.5, 78\n",
      "Kunle: 16,6.1, 87\n",
      "George: 18,5.4, 98\n",
      "Thomas: 17,5.8, 54\n",
      "Welsey: 19,5.7 60\n"
     ]
    }
   ],
   "source": [
    "print(\"Name age Height score\")\n",
    "girls = {\"Evelyn: 17,5.5\": 80, \"Jessica: 16,6.0,\": 85, \"Somto: 17,5.4,\": 70, \"Edith: 18,5.9,\": 60, \"Liza: 16,5.6,\": 76, \"Madonna: 18,5.5,\": 66, \"Waje: 17,6.1,\": 87, \"Tola: 20,6.0,\": 95, \"Aisha: 19,5.7,\": 50, \"Latifa: 17,5.5\": 49}\n",
    "for i in girls:\n",
    "    print(i,girls[i])\n",
    "\n",
    "boys = {\"Chinedu: 19,5.7\": 74, \"Liam: 16,5.9,\": 87, \"Wale: 18,5.8,\": 75, \"Gbenga: 17,6.1,\": 68, \"Abiola: 20,5.9,\": 66, \"Kola: 19,5.5,\": 78, \"Kunle: 16,6.1,\": 87, \"George: 18,5.4,\": 98, \"Thomas: 17,5.8,\": 54, \"Welsey: 19,5.7\": 60}\n",
    "for i in boys:\n",
    "    print(i,boys[i])"
   ]
  },
  {
   "cell_type": "code",
   "execution_count": null,
   "metadata": {},
   "outputs": [],
   "source": []
  }
 ],
 "metadata": {
  "kernelspec": {
   "display_name": "Python 3",
   "language": "python",
   "name": "python3"
  },
  "language_info": {
   "codemirror_mode": {
    "name": "ipython",
    "version": 3
   },
   "file_extension": ".py",
   "mimetype": "text/x-python",
   "name": "python",
   "nbconvert_exporter": "python",
   "pygments_lexer": "ipython3",
   "version": "3.10.5"
  }
 },
 "nbformat": 4,
 "nbformat_minor": 2
}
