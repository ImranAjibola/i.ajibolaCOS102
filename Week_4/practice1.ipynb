{
 "cells": [
  {
   "cell_type": "code",
   "execution_count": 5,
   "metadata": {},
   "outputs": [
    {
     "name": "stdout",
     "output_type": "stream",
     "text": [
      "The name of city 1 after swapping is: Port-Harcourt\n",
      "The name of city 2 after swapping is: Ibadan\n"
     ]
    }
   ],
   "source": [
    "city1 = input(\"Enter the name of city 1: \")\n",
    "city2 = input(\"Enter the name of city 2: \")\n",
    "\n",
    "temp = city1\n",
    "city1 = city2\n",
    "city2 = temp\n",
    "\n",
    "print(f\"The name of city 1 after swapping is: {city1}\")\n",
    "print(f\"The name of city 2 after swapping is: {city2}\")"
   ]
  },
  {
   "cell_type": "code",
   "execution_count": null,
   "metadata": {},
   "outputs": [],
   "source": []
  }
 ],
 "metadata": {
  "kernelspec": {
   "display_name": "Python 3",
   "language": "python",
   "name": "python3"
  },
  "language_info": {
   "codemirror_mode": {
    "name": "ipython",
    "version": 3
   },
   "file_extension": ".py",
   "mimetype": "text/x-python",
   "name": "python",
   "nbconvert_exporter": "python",
   "pygments_lexer": "ipython3",
   "version": "3.10.5"
  }
 },
 "nbformat": 4,
 "nbformat_minor": 2
}
